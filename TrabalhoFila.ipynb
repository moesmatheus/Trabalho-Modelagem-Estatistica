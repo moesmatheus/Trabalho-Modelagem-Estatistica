{
 "cells": [
  {
   "cell_type": "markdown",
   "metadata": {},
   "source": [
    "# FILA DE BANCOS"
   ]
  },
  {
   "cell_type": "markdown",
   "metadata": {},
   "source": [
    "## Introdução\n",
    "Este programa simula a chegada de clientes a um banco, que possui alguns postos de atendimento (caixas). A fila é única para todos os caixas.\n",
    "Os tempos entre chegadas de clientes segue uma distribuição normal, continua discreta, contínua ou exponencial.\n",
    "A duração do atendimento a um cliente no caixa segue uma distribuição normal. \n",
    "\n",
    "Ao final, você encontra algumas sugestões de melhorias neste programa, que você pode fazer como exercício.\n",
    "\n",
    "**eventos** \n",
    "\n",
    "É uma lista de eventos programados, sendo que cada evento\n",
    "pode ser:\n",
    "\n",
    "\n",
    "*   -1 é o evento da chegada de um cliente ao banco\n",
    "*   0, 1, 2 ... é o evento do término do atendimento de um cliente\n",
    "no caixa 0, 1, 2, ...\n",
    "\n",
    "\n",
    "\n",
    "\n",
    "**horario_eventos**\n",
    "\n",
    "É a lista dos horários em que ocorrerão os eventos programados na lista **eventos**. \n",
    "\n",
    "**caixas**\n",
    "\n",
    "É uma lista dos caixas (postos de atendimentos). Cada caixa pode estar em um dos seguintes estados:\n",
    "*   \"livre\"\n",
    "*   \"ocupado\"\n",
    "*   \"fechado\"\n",
    "\n",
    "\n",
    "\n",
    "\n",
    "\n",
    "**fila**\n",
    "\n",
    "É uma lista que contém os horários de chegada nos clientes que comporão a fila de atendimento. Serve para podermos medir o tempo de espera em fila. \n",
    "\n",
    "**horario**\n",
    "\n",
    "Variável inteira com o horário atual. O tempo é medido em segundos, contados a partir do instante 0 (instante em que a simulação começou a ser executada).\n",
    "\n",
    "**tempos_espera**\n",
    "\n",
    "Lista que registra o tempo de espera na fila de cada cliente que vem ao banco. Se o cliente não encontrou nenhuma fila, registra zero. Unidade é minutos (e não segundos!). "
   ]
  },
  {
   "cell_type": "code",
   "execution_count": 1,
   "metadata": {},
   "outputs": [],
   "source": [
    "import random # biblioteca para geração de números aleatórios\n",
    "import time   # biblioteca que possui função para gerar espera no processamento\n",
    "from matplotlib import pyplot as plt  # biblioteca gráfica\n",
    "import numpy as np\\\n",
    "\n",
    "class Fila():\n",
    "    def __init__(\n",
    "        self, \n",
    "        n_caixas: int = 3, \n",
    "        seed = 1,\n",
    "        # Chegada\n",
    "        t_chegada_media = 59,\n",
    "        t_chegada_dp = 8,\n",
    "        t_chegada_minimo = 40,\n",
    "        t_chegada_maximo = 100,\n",
    "        dist_chegada = 'gauss-norm',\n",
    "        # Saida\n",
    "        t_saida_media = 180,\n",
    "        t_saida_dp = 30,\n",
    "        p_preferencial = 0.1\n",
    "        ):\n",
    "        '''\n",
    "        Simulacao de uma fila bancaria\n",
    "        Parametros\n",
    "        ----------\n",
    "        n_caixa: numero de caixas no banco\n",
    "        seed: seed aleatorio, inserir None para nao utilizar seed\n",
    "        t_chegada_media: tempo medio de chegada (utilizado em 'gauss-norm' e 'exponencial')\n",
    "        t_chegada_dp: desvio padrao do tempo de saida (utilizado em 'gauss-norm')\n",
    "        t_chegada_minimo: tempo minimo do intervalo de chegada (utilizado em 'uniforme discreta' e 'uniforme continua')\n",
    "        t_chegada_maximo: tempo maximo do imtervalo de chegada (utilizado em 'uniforme discreta' e 'uniforme continua')\n",
    "        dist_chegada: tipo de distribuicao deve ser um de 'gauss-norm', 'uniforme discreta', 'uniforme continua' ou 'exponencial'\n",
    "        t_saida_media: tempo medio do atendimento\n",
    "        t_saida_dp: desvio padrao do atendimento\n",
    "        '''\n",
    "        \n",
    "        if seed:\n",
    "            random.seed(seed) # define semente fixa para geração de números pseudo-aleatórios\n",
    "\n",
    "\n",
    "        #---------------------------------------------------------------------\n",
    "\n",
    "        # Horário corrente (inteiro, em segundos) começa em zero.\n",
    "        self.horario = 0  # segundos\n",
    "\n",
    "        # A lista de ventos começa, de início, com um único evento: a chegada de um\n",
    "        # cliente. Este evento ocorrerá no instante 0.\n",
    "        self.eventos = [-1]\n",
    "        self.log_eventos = []\n",
    "        self.horario_eventos = [0]\n",
    "        self.log_horarios_eventos = []\n",
    "        self.preferencial = []\n",
    "        self.log_preferencial = []\n",
    "\n",
    "        # Aqui está o estado inicial dos postos de atendimento (caixas).\n",
    "        self.caixas = [\"livre\"] * n_caixas\n",
    "\n",
    "        # A fila de atendimento começa vazia (ninguém na fila). \n",
    "        self.fila = []\n",
    "        self.log_fila = []\n",
    "\n",
    "        # Não há registros de tempos de espera pelos clientes (ninguém chegou ainda!).\n",
    "        self.tempos_espera = [] # segundos\n",
    "        self.log_tempo_atendimentos = []\n",
    "        self.log_tempo_chegada = []\n",
    "        \n",
    "        # Funcao aleatoria distribuicao chegada\n",
    "        if dist_chegada == 'gauss-norm':\n",
    "            self.fn_chegada = lambda :random.gauss(mu = t_chegada_media, sigma = t_chegada_dp)\n",
    "        elif dist_chegada == 'uniforme discreta':\n",
    "            self.fn_chegada = lambda :random.randint(a = t_chegada_minimo, b = t_chegada_maximo)\n",
    "        elif dist_chegada == 'uniforme continua':\n",
    "            self.fn_chegada = lambda :random.uniform(a = t_chegada_minimo, b = t_chegada_maximo)\n",
    "        elif dist_chegada == 'exponencial':\n",
    "            self.fn_chegada = lambda :random.expovariate(lambd = 1/t_chegada_media)\n",
    "        else:\n",
    "            raise ValueError(\"dist_chegada desconhecido deve ser igual a 'gauss-norm', 'uniforme discreta', 'uniforme continua' ou 'exponencial'\")\n",
    "        \n",
    "        # Funcao de distribuicao de saida\n",
    "        self.fn_saida = lambda :random.gauss(t_saida_media, t_saida_dp)\n",
    "        \n",
    "        self.p_preferencial = p_preferencial\n",
    "        \n",
    "    def chegada(self, verbose = False):\n",
    "        '''\n",
    "        Chegada de um novo cliente ao banco\n",
    "        A função chegada() não recebe enhum parâmtro e não devolve nenhum resultado.\n",
    "        '''\n",
    "        \n",
    "        # Programa a chegada de um próximo cliente após um tempo aleatório. \n",
    "        self.eventos.append(np.random.binomial(1, 1 - 0.5) - 2)\n",
    "        \n",
    "        t_c = self.fn_chegada()\n",
    "        \n",
    "        self.log_tempo_chegada.append(t_c)\n",
    "        \n",
    "        h = self.horario +  t_c# normal, especificando média e dp\n",
    "        \n",
    "        self.horario_eventos.append(h)\n",
    "        \n",
    "        if verbose:\n",
    "            print(f\"Programado evento de chegada de novo cliente aos {h:.1f} segundos\")\n",
    "\n",
    "        # Se há caixa livre, programa o evento o término do atendimento de cliente\n",
    "        # recém chegado neste caixa.\n",
    "        # Se não há caixa livre, cliente vai para fila de espera. \n",
    "        if \"livre\" in self.caixas:            # verifica aqui se há caixa livre \n",
    "            \n",
    "            i = self.caixas.index(\"livre\")    # em havendo caixa livre, descobre qual caixa\n",
    "            \n",
    "            self.caixas[i] = \"ocupado\"        # o caixa passa a estar acupado agora\n",
    "            \n",
    "            self.eventos.append(i)            # gera evento do término do atendimento\n",
    "            \n",
    "            dur_atend = self.fn_saida()\n",
    "            \n",
    "            self.log_tempo_atendimentos.append(dur_atend)\n",
    "            \n",
    "            h = self.horario + dur_atend # normal, especificando média e dp\n",
    "            \n",
    "            self.horario_eventos.append(h)    # registra o horário programado para o final desse atendimento\n",
    "                                         \n",
    "            self.tempos_espera.append(0)      # registra a espera deste cliente (0 seg) \n",
    "            \n",
    "            if verbose:\n",
    "                \n",
    "                print(f\"Programado evento de final de atendimento no caixa {i} aos {h:.1f} segundos\")\n",
    "            \n",
    "        else:\n",
    "            \n",
    "            self.fila.append(self.horario)\n",
    "            \n",
    "            self.preferencial.append(bool(np.random.binomial(1, self.p_preferencial)))\n",
    "            \n",
    "            # estando todos os caixas ocupados, \n",
    "                                         # põe cliente na fila (anota-se na fila o\n",
    "                                         # o instante de chegada deste cliente)\n",
    "            \n",
    "                    \n",
    "    def saida(self, i, verbose = False):\n",
    "        '''\n",
    "        Trata o eventos do término do atendimento do cliente no caixa i. \n",
    "        Se há cliente na fila, aloca-o neste caixa, programando o término do\n",
    "        atendimento neste caixa. \n",
    "        A função saida(i) recebe, como parâmetro o número do caixa terminou de\n",
    "        atender seis cliente. Mas a função nada retorna como resultado. \n",
    "        '''\n",
    "        \n",
    "        if len(self.fila) == 0:        # Caixa foi liberado, mas não há cliente\n",
    "            \n",
    "            self.caixas[i] = \"livre\"   # na fila --> muda status deste caixa para livre.\n",
    "            \n",
    "        else:\n",
    "            # Havendo cliente na fila, registra quantos minutos ele esperou\n",
    "            # para ser atendido e registra essa informação. Retira o cliente da\n",
    "            # fila. Programa o final do atendimento do cliente nesse caixa. \n",
    "            \n",
    "            if True in self.preferencial and i == 0:\n",
    "                if verbose:\n",
    "                    print('Atendimento preferencial')\n",
    "                pos = self.preferencial.index(True)\n",
    "                self.log_preferencial.append(True)\n",
    "            else:\n",
    "                pos = 0\n",
    "                self.log_preferencial.append(False)\n",
    "            \n",
    "            self.tempos_espera.append((self.horario - self.fila[pos])/60) # espera = agora - chegada\n",
    "            \n",
    "            self.fila.pop(pos)\n",
    "            self.preferencial.pop(pos)\n",
    "\n",
    "            self.eventos.append(i)\n",
    "            \n",
    "            dur_atend = self.fn_saida()\n",
    "            \n",
    "            self.log_tempo_atendimentos.append(dur_atend)\n",
    "            \n",
    "            y = self.horario + dur_atend\n",
    "            \n",
    "            self.horario_eventos.append(y)\n",
    "            \n",
    "            if verbose:\n",
    "                print(f\"Programado evento de final de atendimento no caixa {i} aos {y:.1f} segundos\")\n",
    "            \n",
    "    def proximo_evento(self, verbose = False):\n",
    "        '''\n",
    "        Descobre qual o próximo evento a tratar na lista de eventos.\n",
    "        A função proximo_evento() não recebe parâmetros e devolve, como resposta,\n",
    "        qual é o próximo evento (-1 = chegada de cliente, 0, 1, 2... = término de\n",
    "        atendimento em um caixa). \n",
    "        Para tanto procura em horario-eventos o horário mais próximo (o menor deles). \n",
    "        Se há cliente na fila, aloca-o neste caixa,\n",
    "        programando o término do atendimento neste caixa. \n",
    "        A lista de eventos nunca estará vazia, por construção. \n",
    "        Essa função retorna o tipo do próximo evento (-1, 0, 1, 2..). \n",
    "        '''\n",
    "        \n",
    "        pos = self.horario_eventos.index(min(self.horario_eventos)) # index do próximo evento\n",
    "        \n",
    "        evento = self.eventos[pos]                             # obtém evento\n",
    "        \n",
    "        self.horario = self.horario_eventos[pos]                    # obtém horário do evento\n",
    "        \n",
    "        if evento < 0:\n",
    "            e = \"chegada de cliente\"\n",
    "        else:\n",
    "            e = \"término de atendimento no caixa \" + str(evento)\n",
    "        \n",
    "        if verbose:\n",
    "            print(f\"Tratando evento = {e}, horário do evento = {self.horario:.1f} segundos\")\n",
    "        \n",
    "        self.log_eventos.append(\n",
    "            self.eventos.pop(pos)\n",
    "        )           # apaga o referido evento da lista de eventos\n",
    "        \n",
    "        self.log_horarios_eventos.append(\n",
    "            self.horario_eventos.pop(pos)\n",
    "        )    # apaga horário do evento na lista dos horários\n",
    "        \n",
    "        self.log_fila.append(len(self.fila))\n",
    "        \n",
    "        return evento               # devolve o evento para o programa principal\n",
    "    \n",
    "    def simulacao(self, horas: float = 1, verbose = False):\n",
    "        \n",
    "        while self.horario < 60 * 60 * horas:\n",
    "            \n",
    "            x = self.proximo_evento(verbose = verbose)\n",
    "            \n",
    "            if x < 0:\n",
    "                \n",
    "                self.chegada(verbose = verbose)\n",
    "                \n",
    "            else:  # é Saída\n",
    "\n",
    "                self.saida(x, verbose = verbose)\n",
    "                \n",
    "            if verbose:\n",
    "                print('-' * 90)\n",
    "        \n",
    "    \n",
    "    def print_status(self, condensed: bool = False):\n",
    "        \n",
    "        if condensed:\n",
    "            \n",
    "            print(\n",
    "                f'horario: {self.horario}\\t eventos: {self.eventos}\\t horario_eventos: {np.round(self.horario_eventos,1)} \\t caixas: {self.caixas}\\t fila: {self.fila} \\t tempos_espera: {self.tempos_espera}'\n",
    "            )\n",
    "            \n",
    "        else:\n",
    "            \n",
    "            print(f\"horario: {self.horario}\", '\\n')\n",
    "\n",
    "            print(f\"eventos: {self.eventos}\", '\\n')\n",
    "\n",
    "            print(f\"horario_eventos: {np.round(self.horario_eventos,1)}\", '\\n')\n",
    "\n",
    "            print(f\"caixas: {self.caixas}\", '\\n')\n",
    "\n",
    "            print(f\"fila: {self.fila}\", '\\n')\n",
    "\n",
    "            print(f\"tempos_espera: {self.tempos_espera}\")\n",
    "            \n",
    "    def show_results(self):\n",
    "        \n",
    "        print(f\"Tamanho da fila = {len(self.fila)}\") # imprime tamanho da fila\n",
    "        print(f\"Caixas: {self.caixas}\")             # imprime situação dos caixas\n",
    "        print(f\"Duracao: {self.horario/60/60:.2f} h\")\n",
    "        print(f\"Total de clientes: {len(self.tempos_espera)}\")\n",
    "        \n",
    "        print(f\"- Tempo máximo de espera na fila: {max(self.tempos_espera):.1f} min\")\n",
    "        print(f\"- Tempo médio de espera na fila: {sum(self.tempos_espera)/len(self.tempos_espera):.1f} min\")\n",
    "        \n",
    "        print('-'*80)\n",
    "        \n",
    "        # gera histograma dos tempos de espera na fila\n",
    "        plt.hist(self.tempos_espera)\n",
    "        plt.title('Histograma dos tempos de espera na fila')\n",
    "        plt.xlabel(\"Tempo de espera na fila para ser atendido (minutos)\")\n",
    "        plt.ylabel(\"Contagem de clientes\")\n",
    "        plt.grid(True)\n",
    "        plt.show()\n",
    "        \n",
    "        print('-'*80)\n",
    "        \n",
    "        # gera line plot dos tempos de espera na fila\n",
    "        plt.plot(self.tempos_espera, color = \"r\")\n",
    "        plt.title('Timeplot dos tempos de espera na fila')\n",
    "        plt.xlabel(\"Número de ordem de chegada dos clientes\")\n",
    "        plt.ylabel(\"Tempo de espera na fila para ser atendido (minutos)\")\n",
    "        plt.grid(True)\n",
    "        plt.grid(True)\n",
    "        plt.show()\n",
    "        \n",
    "        print('-'*80)\n",
    "        plt.title('Intervalo de chegadas')\n",
    "        plt.hist(self.log_tempo_chegada)\n",
    "        plt.grid(True)\n",
    "        plt.show()\n",
    "        \n",
    "        print('-'*80)\n",
    "        plt.title('Tempo de atendimentos')\n",
    "        plt.hist(self.log_tempo_atendimentos)\n",
    "        plt.grid(True)\n",
    "        plt.show()\n",
    "        \n",
    "        print('-'*80)\n",
    "        plt.plot(self.log_fila, color = \"r\")\n",
    "        plt.title('Tamanho da Fila')\n",
    "        plt.xlabel(\"Número de ordem de chegada dos clientes\")\n",
    "        plt.ylabel(\"Tamanho da Fila\")\n",
    "        plt.grid(True)\n",
    "        plt.grid(True)\n",
    "        plt.show()\n",
    "        "
   ]
  },
  {
   "cell_type": "markdown",
   "metadata": {},
   "source": [
    "### Criar simulador"
   ]
  },
  {
   "cell_type": "code",
   "execution_count": 2,
   "metadata": {},
   "outputs": [],
   "source": [
    "f = Fila(\n",
    "    n_caixas = 4,\n",
    "    t_chegada_media = 50,\n",
    "    t_chegada_dp = 8,\n",
    "    t_chegada_minimo = 40,\n",
    "    t_chegada_maximo = 100,\n",
    "    dist_chegada = 'uniforme discreta', # 'gauss-norm', 'uniforme discreta', 'uniforme continua' ou 'exponencial'\n",
    "    t_saida_media = 160,\n",
    "    t_saida_dp = 30,\n",
    "    p_preferencial = 0.1\n",
    ")"
   ]
  },
  {
   "cell_type": "markdown",
   "metadata": {},
   "source": [
    "### Simulação com print de cada etapa"
   ]
  },
  {
   "cell_type": "code",
   "execution_count": 26,
   "metadata": {},
   "outputs": [
    {
     "name": "stdout",
     "output_type": "stream",
     "text": [
      "Tratando evento = chegada de cliente, horário do evento = 0.0 segundos\n",
      "Programado evento de chegada de novo cliente aos 48.1 segundos\n",
      "Programado evento de final de atendimento no caixa 0 aos 189.3 segundos\n",
      "------------------------------------------------------------------------------------------\n",
      "Tratando evento = chegada de cliente, horário do evento = 48.1 segundos\n",
      "Programado evento de chegada de novo cliente aos 103.4 segundos\n",
      "Programado evento de final de atendimento no caixa 1 aos 166.4 segundos\n",
      "------------------------------------------------------------------------------------------\n",
      "Tratando evento = chegada de cliente, horário do evento = 103.4 segundos\n",
      "Programado evento de chegada de novo cliente aos 173.1 segundos\n",
      "Programado evento de final de atendimento no caixa 2 aos 222.0 segundos\n",
      "------------------------------------------------------------------------------------------\n",
      "Tratando evento = término de atendimento no caixa 1, horário do evento = 166.4 segundos\n",
      "------------------------------------------------------------------------------------------\n",
      "Tratando evento = chegada de cliente, horário do evento = 173.1 segundos\n",
      "Programado evento de chegada de novo cliente aos 260.4 segundos\n",
      "Programado evento de final de atendimento no caixa 1 aos 346.7 segundos\n",
      "------------------------------------------------------------------------------------------\n",
      "Tratando evento = término de atendimento no caixa 0, horário do evento = 189.3 segundos\n",
      "------------------------------------------------------------------------------------------\n",
      "Tratando evento = término de atendimento no caixa 2, horário do evento = 222.0 segundos\n",
      "------------------------------------------------------------------------------------------\n",
      "Tratando evento = chegada de cliente, horário do evento = 260.4 segundos\n",
      "Programado evento de chegada de novo cliente aos 306.0 segundos\n",
      "Programado evento de final de atendimento no caixa 0 aos 476.5 segundos\n",
      "------------------------------------------------------------------------------------------\n",
      "Tratando evento = chegada de cliente, horário do evento = 306.0 segundos\n",
      "Programado evento de chegada de novo cliente aos 372.0 segundos\n",
      "Programado evento de final de atendimento no caixa 2 aos 476.1 segundos\n",
      "------------------------------------------------------------------------------------------\n",
      "Tratando evento = término de atendimento no caixa 1, horário do evento = 346.7 segundos\n",
      "------------------------------------------------------------------------------------------\n",
      "Tratando evento = chegada de cliente, horário do evento = 372.0 segundos\n",
      "Programado evento de chegada de novo cliente aos 457.7 segundos\n",
      "Programado evento de final de atendimento no caixa 1 aos 564.6 segundos\n",
      "------------------------------------------------------------------------------------------\n"
     ]
    }
   ],
   "source": [
    "f.simulacao(horas = .1, verbose=True)"
   ]
  },
  {
   "cell_type": "markdown",
   "metadata": {},
   "source": [
    "### Simulação"
   ]
  },
  {
   "cell_type": "code",
   "execution_count": 3,
   "metadata": {},
   "outputs": [],
   "source": [
    "f.simulacao(horas = 8)"
   ]
  },
  {
   "cell_type": "markdown",
   "metadata": {},
   "source": [
    "### Mostrar Resultados"
   ]
  },
  {
   "cell_type": "code",
   "execution_count": 4,
   "metadata": {},
   "outputs": [
    {
     "name": "stdout",
     "output_type": "stream",
     "text": [
      "Tamanho da fila = 0\n",
      "Caixas: ['ocupado', 'livre', 'livre', 'ocupado']\n",
      "Duracao: 8.01 h\n",
      "Total de clientes: 406\n",
      "- Tempo máximo de espera na fila: 0.0 min\n",
      "- Tempo médio de espera na fila: 0.0 min\n",
      "--------------------------------------------------------------------------------\n"
     ]
    },
    {
     "data": {
      "image/png": "[encoded data removed]",
      "text/plain": [
       "<Figure size 432x288 with 1 Axes>"
      ]
     },
     "metadata": {
      "needs_background": "light"
     },
     "output_type": "display_data"
    },
    {
     "name": "stdout",
     "output_type": "stream",
     "text": [
      "--------------------------------------------------------------------------------\n"
     ]
    },
    {
     "data": {
      "image/png": "[encoded data removed]",
      "text/plain": [
       "<Figure size 432x288 with 1 Axes>"
      ]
     },
     "metadata": {
      "needs_background": "light"
     },
     "output_type": "display_data"
    },
    {
     "name": "stdout",
     "output_type": "stream",
     "text": [
      "--------------------------------------------------------------------------------\n"
     ]
    },
    {
     "data": {
      "image/png": "[encoded data removed]",
      "text/plain": [
       "<Figure size 432x288 with 1 Axes>"
      ]
     },
     "metadata": {
      "needs_background": "light"
     },
     "output_type": "display_data"
    },
    {
     "name": "stdout",
     "output_type": "stream",
     "text": [
      "--------------------------------------------------------------------------------\n"
     ]
    },
    {
     "data": {
      "image/png": "[encoded data removed]",
      "text/plain": [
       "<Figure size 432x288 with 1 Axes>"
      ]
     },
     "metadata": {
      "needs_background": "light"
     },
     "output_type": "display_data"
    },
    {
     "name": "stdout",
     "output_type": "stream",
     "text": [
      "--------------------------------------------------------------------------------\n"
     ]
    },
    {
     "data": {
      "image/png": "[encoded data removed]",
      "text/plain": [
       "<Figure size 432x288 with 1 Axes>"
      ]
     },
     "metadata": {
      "needs_background": "light"
     },
     "output_type": "display_data"
    }
   ],
   "source": [
    "f.show_results()"
   ]
  }
 ],
 "metadata": {
  "kernelspec": {
   "display_name": "Python 3",
   "language": "python",
   "name": "python3"
  },
  "language_info": {
   "codemirror_mode": {
    "name": "ipython",
    "version": 3
   },
   "file_extension": ".py",
   "mimetype": "text/x-python",
   "name": "python",
   "nbconvert_exporter": "python",
   "pygments_lexer": "ipython3",
   "version": "3.7.0"
  }
 },
 "nbformat": 4,
 "nbformat_minor": 4
}
