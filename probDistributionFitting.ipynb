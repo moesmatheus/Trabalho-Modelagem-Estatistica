{
 "cells": [
  {
   "cell_type": "markdown",
   "metadata": {},
   "source": [
    "*Rodrigo Togneri, 2020-05.*"
   ]
  },
  {
   "cell_type": "markdown",
   "metadata": {},
   "source": [
    "This notebook illustrates with examples the probability distribution fitting procedure.\n",
    "\n",
    "In this particular notebook, examples are of stocks financial returns. "
   ]
  },
  {
   "cell_type": "markdown",
   "metadata": {},
   "source": [
    "# Import Libraries and Functions"
   ]
  },
  {
   "cell_type": "code",
   "execution_count": 1,
   "metadata": {},
   "outputs": [
    {
     "name": "stderr",
     "output_type": "stream",
     "text": [
      "C:\\Users\\rodto\\anaconda3\\lib\\site-packages\\pandas_datareader\\compat\\__init__.py:7: FutureWarning: pandas.util.testing is deprecated. Use the functions in the public API at pandas.testing instead.\n",
      "  from pandas.util.testing import assert_frame_equal\n"
     ]
    }
   ],
   "source": [
    "import numpy as np\n",
    "import pandas as pd\n",
    "from pandas_datareader import data as wb # to import relational data from web.\n",
    "import scipy # Python basic scientific library.\n",
    "import scipy.stats # SciPy module of statistical functions.\n",
    "import matplotlib.pyplot as plt"
   ]
  },
  {
   "cell_type": "markdown",
   "metadata": {},
   "source": [
    "# Import Stock Data"
   ]
  },
  {
   "cell_type": "markdown",
   "metadata": {},
   "source": [
    "Here we have chosen to use stock pricing information from WEG, a brazilian industrial company listed in B3 (the brazilian only stock exchange)."
   ]
  },
  {
   "cell_type": "code",
   "execution_count": 2,
   "metadata": {},
   "outputs": [],
   "source": [
    "WEG = wb.DataReader('WEGE3.SA', data_source='yahoo', start='2010-1-1')"
   ]
  },
  {
   "cell_type": "code",
   "execution_count": 3,
   "metadata": {},
   "outputs": [
    {
     "data": {
      "text/html": [
       "<div>\n",
       "<style scoped>\n",
       "    .dataframe tbody tr th:only-of-type {\n",
       "        vertical-align: middle;\n",
       "    }\n",
       "\n",
       "    .dataframe tbody tr th {\n",
       "        vertical-align: top;\n",
       "    }\n",
       "\n",
       "    .dataframe thead th {\n",
       "        text-align: right;\n",
       "    }\n",
       "</style>\n",
       "<table border=\"1\" class=\"dataframe\">\n",
       "  <thead>\n",
       "    <tr style=\"text-align: right;\">\n",
       "      <th></th>\n",
       "      <th>High</th>\n",
       "      <th>Low</th>\n",
       "      <th>Open</th>\n",
       "      <th>Close</th>\n",
       "      <th>Volume</th>\n",
       "      <th>Adj Close</th>\n",
       "    </tr>\n",
       "    <tr>\n",
       "      <th>Date</th>\n",
       "      <th></th>\n",
       "      <th></th>\n",
       "      <th></th>\n",
       "      <th></th>\n",
       "      <th></th>\n",
       "      <th></th>\n",
       "    </tr>\n",
       "  </thead>\n",
       "  <tbody>\n",
       "    <tr>\n",
       "      <th>2010-01-04</th>\n",
       "      <td>5.547340</td>\n",
       "      <td>5.360950</td>\n",
       "      <td>5.470410</td>\n",
       "      <td>5.423080</td>\n",
       "      <td>1888406.0</td>\n",
       "      <td>3.765263</td>\n",
       "    </tr>\n",
       "    <tr>\n",
       "      <th>2010-01-05</th>\n",
       "      <td>5.443790</td>\n",
       "      <td>5.372780</td>\n",
       "      <td>5.423080</td>\n",
       "      <td>5.411240</td>\n",
       "      <td>714532.0</td>\n",
       "      <td>3.757042</td>\n",
       "    </tr>\n",
       "    <tr>\n",
       "      <th>2010-01-06</th>\n",
       "      <td>5.464500</td>\n",
       "      <td>5.384620</td>\n",
       "      <td>5.393490</td>\n",
       "      <td>5.440830</td>\n",
       "      <td>2053012.0</td>\n",
       "      <td>3.777586</td>\n",
       "    </tr>\n",
       "    <tr>\n",
       "      <th>2010-01-07</th>\n",
       "      <td>5.559170</td>\n",
       "      <td>5.443790</td>\n",
       "      <td>5.485210</td>\n",
       "      <td>5.532540</td>\n",
       "      <td>469820.0</td>\n",
       "      <td>3.841263</td>\n",
       "    </tr>\n",
       "    <tr>\n",
       "      <th>2010-01-08</th>\n",
       "      <td>5.739640</td>\n",
       "      <td>5.514790</td>\n",
       "      <td>5.517750</td>\n",
       "      <td>5.733730</td>\n",
       "      <td>1099514.0</td>\n",
       "      <td>3.980949</td>\n",
       "    </tr>\n",
       "    <tr>\n",
       "      <th>...</th>\n",
       "      <td>...</td>\n",
       "      <td>...</td>\n",
       "      <td>...</td>\n",
       "      <td>...</td>\n",
       "      <td>...</td>\n",
       "      <td>...</td>\n",
       "    </tr>\n",
       "    <tr>\n",
       "      <th>2020-06-08</th>\n",
       "      <td>46.279999</td>\n",
       "      <td>44.259998</td>\n",
       "      <td>44.889999</td>\n",
       "      <td>45.799999</td>\n",
       "      <td>5162800.0</td>\n",
       "      <td>45.799999</td>\n",
       "    </tr>\n",
       "    <tr>\n",
       "      <th>2020-06-09</th>\n",
       "      <td>46.080002</td>\n",
       "      <td>43.849998</td>\n",
       "      <td>44.730000</td>\n",
       "      <td>45.810001</td>\n",
       "      <td>4179400.0</td>\n",
       "      <td>45.810001</td>\n",
       "    </tr>\n",
       "    <tr>\n",
       "      <th>2020-06-10</th>\n",
       "      <td>46.639999</td>\n",
       "      <td>44.470001</td>\n",
       "      <td>45.930000</td>\n",
       "      <td>44.990002</td>\n",
       "      <td>4847800.0</td>\n",
       "      <td>44.990002</td>\n",
       "    </tr>\n",
       "    <tr>\n",
       "      <th>2020-06-12</th>\n",
       "      <td>44.630001</td>\n",
       "      <td>42.700001</td>\n",
       "      <td>43.549999</td>\n",
       "      <td>44.250000</td>\n",
       "      <td>5716200.0</td>\n",
       "      <td>44.250000</td>\n",
       "    </tr>\n",
       "    <tr>\n",
       "      <th>2020-06-15</th>\n",
       "      <td>44.919998</td>\n",
       "      <td>43.000000</td>\n",
       "      <td>43.000000</td>\n",
       "      <td>44.259998</td>\n",
       "      <td>2547500.0</td>\n",
       "      <td>44.259998</td>\n",
       "    </tr>\n",
       "  </tbody>\n",
       "</table>\n",
       "<p>2585 rows × 6 columns</p>\n",
       "</div>"
      ],
      "text/plain": [
       "                 High        Low       Open      Close     Volume  Adj Close\n",
       "Date                                                                        \n",
       "2010-01-04   5.547340   5.360950   5.470410   5.423080  1888406.0   3.765263\n",
       "2010-01-05   5.443790   5.372780   5.423080   5.411240   714532.0   3.757042\n",
       "2010-01-06   5.464500   5.384620   5.393490   5.440830  2053012.0   3.777586\n",
       "2010-01-07   5.559170   5.443790   5.485210   5.532540   469820.0   3.841263\n",
       "2010-01-08   5.739640   5.514790   5.517750   5.733730  1099514.0   3.980949\n",
       "...               ...        ...        ...        ...        ...        ...\n",
       "2020-06-08  46.279999  44.259998  44.889999  45.799999  5162800.0  45.799999\n",
       "2020-06-09  46.080002  43.849998  44.730000  45.810001  4179400.0  45.810001\n",
       "2020-06-10  46.639999  44.470001  45.930000  44.990002  4847800.0  44.990002\n",
       "2020-06-12  44.630001  42.700001  43.549999  44.250000  5716200.0  44.250000\n",
       "2020-06-15  44.919998  43.000000  43.000000  44.259998  2547500.0  44.259998\n",
       "\n",
       "[2585 rows x 6 columns]"
      ]
     },
     "execution_count": 3,
     "metadata": {},
     "output_type": "execute_result"
    }
   ],
   "source": [
    "WEG"
   ]
  },
  {
   "cell_type": "code",
   "execution_count": 4,
   "metadata": {},
   "outputs": [
    {
     "data": {
      "image/png": "[encoded data removed]",
      "text/plain": [
       "<Figure size 864x360 with 1 Axes>"
      ]
     },
     "metadata": {
      "needs_background": "light"
     },
     "output_type": "display_data"
    }
   ],
   "source": [
    "WEG['Adj Close'].plot(figsize=(12, 5))\n",
    "plt.show()"
   ]
  },
  {
   "cell_type": "markdown",
   "metadata": {},
   "source": [
    "# Calculate Simple Return"
   ]
  },
  {
   "cell_type": "markdown",
   "metadata": {},
   "source": [
    "The simple return of a stock in a specific timeframe is the price percentual variation, as illustrates the formula below:"
   ]
  },
  {
   "cell_type": "markdown",
   "metadata": {},
   "source": [
    "$$\n",
    "\\frac{P_1 - P_0}{P_0} = \\frac{P_1}{P_0} - 1\n",
    "$$"
   ]
  },
  {
   "cell_type": "markdown",
   "metadata": {},
   "source": [
    "In this example, we calculate the daily basis (our timeframe) return for a period of aproximately 10 years:"
   ]
  },
  {
   "cell_type": "code",
   "execution_count": 5,
   "metadata": {},
   "outputs": [],
   "source": [
    "WEG['simpleReturn'] = (WEG['Adj Close'] / WEG['Adj Close'].shift(1)) - 1\n",
    "#print (WEG['simple_return'])"
   ]
  },
  {
   "cell_type": "markdown",
   "metadata": {},
   "source": [
    "Returns can be plotted as below. Note that accentuated downsize movements are more frequent than upsize ones. This illustrates the famous sentence: \"the market goes up stairs, but goes down by elevator\"."
   ]
  },
  {
   "cell_type": "code",
   "execution_count": 6,
   "metadata": {},
   "outputs": [
    {
     "data": {
      "image/png": "[encoded data removed]",
      "text/plain": [
       "<Figure size 864x360 with 1 Axes>"
      ]
     },
     "metadata": {
      "needs_background": "light"
     },
     "output_type": "display_data"
    }
   ],
   "source": [
    "WEG['simpleReturn'].plot(figsize=(12, 5))\n",
    "plt.show()"
   ]
  },
  {
   "cell_type": "markdown",
   "metadata": {},
   "source": [
    "Another way to see simple returns data is by plotting the histogram (please be careful you are plotting data from different times, with different contexts, which makes the difference in stock market decisions - this is just a illustrative example). Note that we can also see here that extreme downsize movements are more frequent than upsize ones. This indicates asymmetry. More than that, we can see that extreme events are far away from the main distribution, meaning that this distribution has large tails."
   ]
  },
  {
   "cell_type": "code",
   "execution_count": 7,
   "metadata": {},
   "outputs": [
    {
     "data": {
      "image/png": "[encoded data removed]",
      "text/plain": [
       "<Figure size 864x360 with 1 Axes>"
      ]
     },
     "metadata": {
      "needs_background": "light"
     },
     "output_type": "display_data"
    }
   ],
   "source": [
    "WEG['simpleReturn'].hist(figsize=(12, 5),bins=100)\n",
    "plt.show()"
   ]
  },
  {
   "cell_type": "markdown",
   "metadata": {},
   "source": [
    "The daily return mean appears to be tiny, having the first significative digit just in the third position after the point. The good new here is that this stock at least has a positive return mean."
   ]
  },
  {
   "cell_type": "code",
   "execution_count": 8,
   "metadata": {},
   "outputs": [
    {
     "data": {
      "text/plain": [
       "0.0011433384284692803"
      ]
     },
     "execution_count": 8,
     "metadata": {},
     "output_type": "execute_result"
    }
   ],
   "source": [
    "WEG['simpleReturn'].mean()"
   ]
  },
  {
   "cell_type": "markdown",
   "metadata": {},
   "source": [
    "But if you calculate the corresponding annual return (considering aprox. 250 working days), you would be surprised with a good 28.59% mean:"
   ]
  },
  {
   "cell_type": "code",
   "execution_count": 9,
   "metadata": {},
   "outputs": [
    {
     "name": "stdout",
     "output_type": "stream",
     "text": [
      "28.583 %\n"
     ]
    }
   ],
   "source": [
    "print(str(round(WEG['simpleReturn'].mean()*250, 5)*100) + ' %')"
   ]
  },
  {
   "cell_type": "markdown",
   "metadata": {},
   "source": [
    "# Fit Distribution Model to Data"
   ]
  },
  {
   "cell_type": "markdown",
   "metadata": {},
   "source": [
    "Our final goal is to find an adjusted theoretical probability distribution model to our data, in order to make it possible to generate random numbers based on them (simulated behaviour). This section is dedicated to find this adjusted theorecical model."
   ]
  },
  {
   "cell_type": "markdown",
   "metadata": {},
   "source": [
    "## Is simple return data normal distributed?"
   ]
  },
  {
   "cell_type": "markdown",
   "metadata": {},
   "source": [
    "Generating WEG simple return array:"
   ]
  },
  {
   "cell_type": "code",
   "execution_count": 10,
   "metadata": {},
   "outputs": [],
   "source": [
    "WEG_simpleReturn_array = np.array(WEG['simpleReturn'].tolist())\n",
    "WEG_simpleReturn_array = np.delete(WEG_simpleReturn_array,0)"
   ]
  },
  {
   "cell_type": "code",
   "execution_count": 11,
   "metadata": {},
   "outputs": [
    {
     "data": {
      "text/plain": [
       "array([-0.00218336,  0.00546814,  0.01685636, ..., -0.01790001,\n",
       "       -0.01644814,  0.00022595])"
      ]
     },
     "execution_count": 11,
     "metadata": {},
     "output_type": "execute_result"
    }
   ],
   "source": [
    "WEG_simpleReturn_array"
   ]
  },
  {
   "cell_type": "markdown",
   "metadata": {},
   "source": [
    "Generating a fitted normal distribution:"
   ]
  },
  {
   "cell_type": "code",
   "execution_count": 12,
   "metadata": {},
   "outputs": [],
   "source": [
    "x = scipy.stats.norm.rvs(loc=np.mean(WEG_simpleReturn_array), \n",
    "                         scale=np.std(WEG_simpleReturn_array), \n",
    "                         size=len(WEG_simpleReturn_array))"
   ]
  },
  {
   "cell_type": "code",
   "execution_count": 13,
   "metadata": {},
   "outputs": [
    {
     "data": {
      "text/plain": [
       "array([-0.01358767,  0.01041709,  0.00640862, ...,  0.0024793 ,\n",
       "       -0.00327326, -0.01292857])"
      ]
     },
     "execution_count": 13,
     "metadata": {},
     "output_type": "execute_result"
    }
   ],
   "source": [
    "x"
   ]
  },
  {
   "cell_type": "markdown",
   "metadata": {},
   "source": [
    "And now, let us compare, and discover if simple returns are normal distributed:"
   ]
  },
  {
   "cell_type": "code",
   "execution_count": 14,
   "metadata": {},
   "outputs": [
    {
     "data": {
      "text/plain": [
       "<matplotlib.legend.Legend at 0x2994c066ac8>"
      ]
     },
     "execution_count": 14,
     "metadata": {},
     "output_type": "execute_result"
    },
    {
     "data": {
      "image/png": "[encoded data removed]",
      "text/plain": [
       "<Figure size 432x288 with 1 Axes>"
      ]
     },
     "metadata": {
      "needs_background": "light"
     },
     "output_type": "display_data"
    }
   ],
   "source": [
    "plt.hist(x, alpha=0.5, label='Fitted', bins=100, density=True)\n",
    "plt.hist(WEG_simpleReturn_array, alpha=0.5, label='Actual', bins=100, density=True)\n",
    "plt.legend(loc='upper right')"
   ]
  },
  {
   "cell_type": "markdown",
   "metadata": {},
   "source": [
    "Well, it does not seem that simple returns are normal distributed, because normal distribution is not so concentrated around the mean, and also do not allow so many extreme values, as compared to the actual distribution."
   ]
  },
  {
   "cell_type": "markdown",
   "metadata": {},
   "source": [
    "## Let's try to find a better suited distribution."
   ]
  },
  {
   "cell_type": "markdown",
   "metadata": {},
   "source": [
    "SciPy has a lot of distribution models to be tested: https://docs.scipy.org/doc/scipy/reference/stats.html."
   ]
  },
  {
   "cell_type": "markdown",
   "metadata": {},
   "source": [
    "Here we will create a class to fitted distributions, and will test them using Kolmogorov-Smirnov test (there are other goodness-of-fit measures and tests: AIC - Akaike Information Criteria, BIC - Bayesian Information Criteria, Cramer-VonMises test, Anderson-Darling test, Shapiro-Wilk test, Hosmer-Lemeshow test, QQ-plot, PP-plot etc)."
   ]
  },
  {
   "cell_type": "code",
   "execution_count": 15,
   "metadata": {},
   "outputs": [],
   "source": [
    "class fittedDistribution(object):\n",
    "    \n",
    "    def __init__(self,dist_names_list = []):\n",
    "        \n",
    "        self.dist_names = [\"beta\",\"gamma\",\"laplace\",\"lognorm\",\"norm\",\"t\"]\n",
    "        self.dist_results = []\n",
    "        self.params = {}\n",
    "        \n",
    "        self.DistributionName = \"\"\n",
    "        self.PValue = 0\n",
    "        self.Param = None\n",
    "        \n",
    "        self.isFitted = False\n",
    "        \n",
    "        \n",
    "    def Fit(self, y):\n",
    "        self.dist_results = []\n",
    "        self.params = {}\n",
    "        for dist_name in self.dist_names:\n",
    "            dist = getattr(scipy.stats, dist_name)\n",
    "            param = dist.fit(y)\n",
    "            \n",
    "            self.params[dist_name] = param\n",
    "            #Applying the Kolmogorov-Smirnov test\n",
    "            D, p = scipy.stats.kstest(y, dist_name, args=param);\n",
    "            self.dist_results.append((dist_name,p))\n",
    "        #select the best fitted distribution\n",
    "        sel_dist,p = (max(self.dist_results,key=lambda item:item[1]))\n",
    "        #store the name of the best fit and its p value\n",
    "        self.DistributionName = sel_dist\n",
    "        self.PValue = p\n",
    "        \n",
    "        self.isFitted = True\n",
    "        return self.DistributionName,self.PValue\n",
    "    \n",
    "    def Random(self, n = 1):\n",
    "        if self.isFitted:\n",
    "            dist_name = self.DistributionName\n",
    "            param = self.params[dist_name]\n",
    "            #initiate the scipy distribution\n",
    "            dist = getattr(scipy.stats, dist_name)\n",
    "            return dist.rvs(*param[:-2], loc=param[-2], scale=param[-1], size=n)\n",
    "        else:\n",
    "            raise ValueError('Must first run the Fit method.')\n",
    "            \n",
    "    def Plot(self,y):\n",
    "        x = self.Random(n=len(y))\n",
    "        plt.hist(x, alpha=0.5, label='Fitted', bins=100, density=True)\n",
    "        plt.hist(y, alpha=0.5, label='Actual', bins=100, density=True)\n",
    "        plt.legend(loc='upper right')"
   ]
  },
  {
   "cell_type": "markdown",
   "metadata": {},
   "source": [
    "Creating an instance and fitting a theoretical distribution to WEG simple return data:"
   ]
  },
  {
   "cell_type": "code",
   "execution_count": 16,
   "metadata": {},
   "outputs": [
    {
     "name": "stderr",
     "output_type": "stream",
     "text": [
      "C:\\Users\\rodto\\anaconda3\\lib\\site-packages\\scipy\\stats\\_continuous_distns.py:547: RuntimeWarning: invalid value encountered in sqrt\n",
      "  sk = 2*(b-a)*np.sqrt(a + b + 1) / (a + b + 2) / np.sqrt(a*b)\n",
      "C:\\Users\\rodto\\anaconda3\\lib\\site-packages\\scipy\\optimize\\minpack.py:162: RuntimeWarning: The iteration is not making good progress, as measured by the \n",
      "  improvement from the last ten iterations.\n",
      "  warnings.warn(msg, RuntimeWarning)\n"
     ]
    },
    {
     "data": {
      "text/plain": [
       "('t', 0.4319115500991877)"
      ]
     },
     "execution_count": 16,
     "metadata": {},
     "output_type": "execute_result"
    }
   ],
   "source": [
    "dst = fittedDistribution()\n",
    "dst.Fit(WEG_simpleReturn_array)"
   ]
  },
  {
   "cell_type": "markdown",
   "metadata": {},
   "source": [
    "It founded that Student t is a better distribution. See how Student t is much more  fit to data:"
   ]
  },
  {
   "cell_type": "code",
   "execution_count": 17,
   "metadata": {},
   "outputs": [
    {
     "data": {
      "image/png": "[encoded data removed]",
      "text/plain": [
       "<Figure size 432x288 with 1 Axes>"
      ]
     },
     "metadata": {
      "needs_background": "light"
     },
     "output_type": "display_data"
    }
   ],
   "source": [
    "dst.Plot(WEG_simpleReturn_array)"
   ]
  },
  {
   "cell_type": "markdown",
   "metadata": {},
   "source": [
    "See how Student t distribution is better than normal and others distributions (higher p-value):"
   ]
  },
  {
   "cell_type": "code",
   "execution_count": 18,
   "metadata": {},
   "outputs": [
    {
     "data": {
      "text/plain": [
       "[('beta', 4.018382546597209e-07),\n",
       " ('gamma', 2.2983052370658144e-12),\n",
       " ('laplace', 0.0014510350462133836),\n",
       " ('lognorm', 1.4625901472797118e-06),\n",
       " ('norm', 1.1651207610232656e-06),\n",
       " ('t', 0.4319115500991877)]"
      ]
     },
     "execution_count": 18,
     "metadata": {},
     "output_type": "execute_result"
    }
   ],
   "source": [
    "dst.dist_results"
   ]
  },
  {
   "cell_type": "markdown",
   "metadata": {},
   "source": [
    "# Simulate Values Based on Fitted Distribution"
   ]
  },
  {
   "cell_type": "code",
   "execution_count": 20,
   "metadata": {},
   "outputs": [
    {
     "data": {
      "text/plain": [
       "(4.596139745680032, 0.0009451032293363365, 0.014332396503355053)"
      ]
     },
     "execution_count": 20,
     "metadata": {},
     "output_type": "execute_result"
    }
   ],
   "source": [
    "dst.params[dst.DistributionName]"
   ]
  },
  {
   "cell_type": "code",
   "execution_count": 21,
   "metadata": {},
   "outputs": [],
   "source": [
    "z = scipy.stats.t.rvs(dst.params[dst.DistributionName][0],\n",
    "                      dst.params[dst.DistributionName][1],\n",
    "                      dst.params[dst.DistributionName][2],\n",
    "                      size=len(WEG_simpleReturn_array))"
   ]
  },
  {
   "cell_type": "code",
   "execution_count": 22,
   "metadata": {},
   "outputs": [
    {
     "data": {
      "text/plain": [
       "array([ 0.01928829, -0.00266256,  0.02536989, ..., -0.01266439,\n",
       "        0.0147085 , -0.00230057])"
      ]
     },
     "execution_count": 22,
     "metadata": {},
     "output_type": "execute_result"
    }
   ],
   "source": [
    "z"
   ]
  },
  {
   "cell_type": "code",
   "execution_count": 23,
   "metadata": {},
   "outputs": [
    {
     "data": {
      "image/png": "[encoded data removed]",
      "text/plain": [
       "<Figure size 432x288 with 1 Axes>"
      ]
     },
     "metadata": {
      "needs_background": "light"
     },
     "output_type": "display_data"
    }
   ],
   "source": [
    "plt.hist(z, bins=100)\n",
    "plt.show()"
   ]
  },
  {
   "cell_type": "code",
   "execution_count": null,
   "metadata": {},
   "outputs": [],
   "source": []
  }
 ],
 "metadata": {
  "kernelspec": {
   "display_name": "Python 3",
   "language": "python",
   "name": "python3"
  },
  "language_info": {
   "codemirror_mode": {
    "name": "ipython",
    "version": 3
   },
   "file_extension": ".py",
   "mimetype": "text/x-python",
   "name": "python",
   "nbconvert_exporter": "python",
   "pygments_lexer": "ipython3",
   "version": "3.7.0"
  }
 },
 "nbformat": 4,
 "nbformat_minor": 4
}
